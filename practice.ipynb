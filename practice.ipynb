{
 "cells": [
  {
   "cell_type": "markdown",
   "id": "bee2e8b3-c40f-47b7-9fd9-37b2569e0000",
   "metadata": {},
   "source": [
    "# Find the Commons String from two strings"
   ]
  },
  {
   "cell_type": "code",
   "execution_count": 2,
   "id": "88f6c059-99d6-4342-92c8-4e72a100b8f1",
   "metadata": {},
   "outputs": [
    {
     "name": "stdin",
     "output_type": "stream",
     "text": [
      "Enter The First String = hellow i am d good\n",
      "Enter The Second String =  i am no good\n"
     ]
    },
    {
     "name": "stdout",
     "output_type": "stream",
     "text": [
      "{' ', 'o', 'i', 'd', 'm', 'a', 'g'}\n"
     ]
    }
   ],
   "source": [
    "def common_string():\n",
    "    str1 = str(input(\"Enter The First String =\" ))\n",
    "    str2 = str(input(\"Enter The Second String = \"))\n",
    "\n",
    "    s1=set(str1)\n",
    "    s2=set(str2)\n",
    "\n",
    "    output = s1 & s2\n",
    "    print(output)\n",
    "\n",
    "common_string()"
   ]
  },
  {
   "cell_type": "markdown",
   "id": "f29d138a-7452-4100-b452-9710e4790601",
   "metadata": {},
   "source": [
    "# Frecuency Of Words"
   ]
  },
  {
   "cell_type": "code",
   "execution_count": 1,
   "id": "fd73ccf0-d6a7-414b-90ad-f0b4b851e8f7",
   "metadata": {},
   "outputs": [
    {
     "name": "stdin",
     "output_type": "stream",
     "text": [
      "Enter The First String = apple, mango, apple\n"
     ]
    },
    {
     "name": "stdout",
     "output_type": "stream",
     "text": [
      "Counter({'apple,': 1, 'mango,': 1, 'apple': 1})\n"
     ]
    }
   ],
   "source": [
    "from collections import Counter\n",
    "\n",
    "def word_freq():\n",
    "    str1 = str(input(\"Enter The First String =\" ))\n",
    "    str2 = str1.split()\n",
    "    count= Counter(str2)\n",
    "    print(count)\n",
    "\n",
    "word_freq()"
   ]
  },
  {
   "cell_type": "code",
   "execution_count": 5,
   "id": "4f5f7afb-62b5-4a16-b9a0-0f7ea0a6983d",
   "metadata": {},
   "outputs": [
    {
     "name": "stdin",
     "output_type": "stream",
     "text": [
      "Enter the string:  kjndkjk\n"
     ]
    },
    {
     "name": "stdout",
     "output_type": "stream",
     "text": [
      "'kjndkjk': 1\n"
     ]
    }
   ],
   "source": [
    "from collections import Counter\n",
    "\n",
    "def word_freq():\n",
    "    str1 = input(\"Enter the string: \")  # Removed unnecessary conversion with str()\n",
    "    words = str1.split()  # Split the string into words\n",
    "    word_count = Counter(words)  # Count word frequencies\n",
    "    for word, count in word_count.items():\n",
    "        print(f\"'{word}': {count}\")\n",
    "\n",
    "word_freq()"
   ]
  },
  {
   "cell_type": "markdown",
   "id": "042928d9-0977-4abc-869f-046bce935eb6",
   "metadata": {},
   "source": [
    "# Convert Two List Into Dictionary "
   ]
  },
  {
   "cell_type": "code",
   "execution_count": 7,
   "id": "669dd24e-d38e-48dc-956b-bd651e797415",
   "metadata": {},
   "outputs": [
    {
     "name": "stdout",
     "output_type": "stream",
     "text": [
      "{'name': 'Mohan', 'age': 10, 'addtess': 'bangalore'}\n"
     ]
    }
   ],
   "source": [
    "def dist_converter():\n",
    "    list1=['name', 'age', 'addtess']\n",
    "    list2=['Mohan', 10, 'bangalore']\n",
    "    result = dict(zip(list1, list2))\n",
    "    print(result)\n",
    "\n",
    "dist_converter()\n"
   ]
  },
  {
   "cell_type": "markdown",
   "id": "05845cdf-7d84-4f01-bd04-8914583e2804",
   "metadata": {},
   "source": [
    "# Convert  Dictionary  T0 tuple"
   ]
  },
  {
   "cell_type": "code",
   "execution_count": 9,
   "id": "d3a84389-1241-448b-b9a3-e7d07fc6a6f4",
   "metadata": {},
   "outputs": [
    {
     "name": "stdout",
     "output_type": "stream",
     "text": [
      "('name', 'Mohan')\n",
      "('age', 10)\n",
      "('addtess', 'bangalore')\n"
     ]
    }
   ],
   "source": [
    "def dist_to_tuple():\n",
    "    x={'name': 'Mohan', 'age': 10, 'addtess': 'bangalore'}\n",
    "    for i in x.items():\n",
    "        print(i)\n",
    "\n",
    "dist_to_tuple()"
   ]
  },
  {
   "cell_type": "markdown",
   "id": "4c2c81d6-6fba-425f-bbf6-ee007c5f6d89",
   "metadata": {},
   "source": [
    "# Check Palindrome Number"
   ]
  },
  {
   "cell_type": "code",
   "execution_count": 11,
   "id": "c2686fac-6995-4f7e-b553-cf833534a114",
   "metadata": {},
   "outputs": [
    {
     "name": "stdin",
     "output_type": "stream",
     "text": [
      "Enter The Charectors or Number =  kjndkjw\n"
     ]
    },
    {
     "name": "stdout",
     "output_type": "stream",
     "text": [
      "This is not Palindrome\n"
     ]
    }
   ],
   "source": [
    "user_input = input('Enter The Charectors or Number = ')\n",
    "reverse=user_input[::-1]\n",
    "\n",
    "if user_input == reverse:\n",
    "    print('This is Palindrome')\n",
    "else:\n",
    "    print('This is not Palindrome')\n"
   ]
  },
  {
   "cell_type": "markdown",
   "id": "3963dfe0-9389-499e-8901-25b2678b0bdc",
   "metadata": {},
   "source": [
    "# 1. Write a Python program to check if a number is even or odd."
   ]
  },
  {
   "cell_type": "code",
   "execution_count": 16,
   "id": "c8d280a2-d4d3-4480-b0f9-145525c0f9a5",
   "metadata": {},
   "outputs": [
    {
     "name": "stdin",
     "output_type": "stream",
     "text": [
      "Enter the Number Here =  20\n"
     ]
    },
    {
     "name": "stdout",
     "output_type": "stream",
     "text": [
      "This Numer Even\n"
     ]
    }
   ],
   "source": [
    "def odd_even():\n",
    "    num=int(input(\"Enter the Number Here = \"))\n",
    "    if num % 2 == 0:\n",
    "        print(\"This Numer Even\")\n",
    "    else:\n",
    "        print(\"This number is Odd\")\n",
    "\n",
    "odd_even()"
   ]
  },
  {
   "cell_type": "markdown",
   "id": "4ad355c9-a6d5-4802-aa8d-1772df815067",
   "metadata": {},
   "source": [
    "# 2. Write a Python program to find the largest of three numbers."
   ]
  },
  {
   "cell_type": "code",
   "execution_count": 27,
   "id": "d6cbe57f-060f-47a0-bab8-6d4818ca7167",
   "metadata": {},
   "outputs": [
    {
     "name": "stdin",
     "output_type": "stream",
     "text": [
      "Enter The First Number 11\n",
      "Enter The  Second Number 22\n",
      "Enter The  Third Number 88\n"
     ]
    },
    {
     "name": "stdout",
     "output_type": "stream",
     "text": [
      "Larhest number Is =  88\n"
     ]
    }
   ],
   "source": [
    "def largest_number():\n",
    "    num1=int(input('Enter The First Number'))\n",
    "    num2=int(input('Enter The  Second Number'))\n",
    "    num3=int(input('Enter The  Third Number'))\n",
    "\n",
    "    if num1 > num2 and num1> num3:\n",
    "        print(\"Largest Number Is = \", num1)\n",
    "    elif num2 > num1 and num2> num3:\n",
    "        print(\"Largest Number is = \", num2)\n",
    "    elif num3 > num1 and num3> num2:\n",
    "        print(\"Largest number Is = \", num3)\n",
    "    else:\n",
    "        print(\"Enter The Correct Number\")\n",
    "\n",
    "largest_number()\n",
    "        \n",
    "    \n"
   ]
  },
  {
   "cell_type": "code",
   "execution_count": null,
   "id": "8a4a796e-168a-4e01-bbd5-da9b58ec633d",
   "metadata": {},
   "outputs": [],
   "source": []
  },
  {
   "cell_type": "markdown",
   "id": "d9a07740-4195-412a-bb8a-191e49936806",
   "metadata": {},
   "source": [
    "# 3. Write a Python program to reverse a string."
   ]
  },
  {
   "cell_type": "code",
   "execution_count": 32,
   "id": "f4ded489-8454-4347-bea0-7939c4867efe",
   "metadata": {},
   "outputs": [
    {
     "name": "stdin",
     "output_type": "stream",
     "text": [
      "Enter The String here : i am a boy\n"
     ]
    },
    {
     "name": "stdout",
     "output_type": "stream",
     "text": [
      "reverse string is : yob a ma i\n"
     ]
    }
   ],
   "source": [
    "def rev_string():\n",
    "    str1 = str(input(\"Enter The String here :\"))\n",
    "    reverse = str1[::-1]\n",
    "    print(\"reverse string is :\", reverse)\n",
    "\n",
    "rev_string()"
   ]
  },
  {
   "cell_type": "markdown",
   "id": "6a4a139b-ae92-4f70-a6f3-aebc0e54a9d0",
   "metadata": {},
   "source": [
    "# 4. Write a Python program to check if a string is a palindrome."
   ]
  },
  {
   "cell_type": "code",
   "execution_count": 45,
   "id": "11037aba-0dca-49c1-8219-3a4e89ab1a63",
   "metadata": {},
   "outputs": [
    {
     "name": "stdin",
     "output_type": "stream",
     "text": [
      "Enter The String here : madam\n"
     ]
    },
    {
     "name": "stdout",
     "output_type": "stream",
     "text": [
      "This is Palindrome string : madam\n"
     ]
    }
   ],
   "source": [
    "def palindrome():\n",
    "    str2 = str(input(\"Enter The String here :\"))\n",
    "    s2=str2[::-1]\n",
    "    if s2==str2:\n",
    "        print(\"This is Palindrome string :\", s2)\n",
    "    else:\n",
    "        print(\"This is Palindrome not string :\", s2)\n",
    "\n",
    "palindrome()"
   ]
  },
  {
   "cell_type": "markdown",
   "id": "ea40e837-8e39-4a6e-9adb-b17441be71d8",
   "metadata": {},
   "source": [
    " # Write a Python program to find the factorial of a number using recursion."
   ]
  },
  {
   "cell_type": "code",
   "execution_count": 55,
   "id": "652c0285-88e4-4298-8519-51324a821a1a",
   "metadata": {},
   "outputs": [
    {
     "name": "stdin",
     "output_type": "stream",
     "text": [
      "Enter the Number 5\n"
     ]
    },
    {
     "data": {
      "text/plain": [
       "120"
      ]
     },
     "execution_count": 55,
     "metadata": {},
     "output_type": "execute_result"
    }
   ],
   "source": [
    "def factorial(n):\n",
    "    if n == 0 or n==1:\n",
    "        return 1\n",
    "    else:\n",
    "        return n*factorial(n-1)\n",
    "\n",
    "num = int(input(\"Enter the Number\"))\n",
    "\n",
    "factorial(num)"
   ]
  },
  {
   "cell_type": "code",
   "execution_count": 57,
   "id": "dc91370a-d97f-4464-8932-91c817fd8253",
   "metadata": {},
   "outputs": [
    {
     "name": "stdin",
     "output_type": "stream",
     "text": [
      "Enter the Number 5\n"
     ]
    },
    {
     "name": "stdout",
     "output_type": "stream",
     "text": [
      "factorial is = 120\n"
     ]
    }
   ],
   "source": [
    "import math \n",
    "\n",
    "num = int(input(\"Enter the Number\"))\n",
    "\n",
    "fact=math.factorial(num)\n",
    "\n",
    "print(\"factorial is =\", fact)\n"
   ]
  },
  {
   "cell_type": "markdown",
   "id": "26d65816-e7e7-40ec-858a-f3c8a89d530b",
   "metadata": {},
   "source": [
    "# 6. Write a Python program to check if a given year is a leap year."
   ]
  },
  {
   "cell_type": "code",
   "execution_count": 68,
   "id": "a75b9e5d-fbff-48e2-ba0a-142f9e6ab94c",
   "metadata": {},
   "outputs": [
    {
     "name": "stdin",
     "output_type": "stream",
     "text": [
      "Enter the Year : 2025\n"
     ]
    },
    {
     "name": "stdout",
     "output_type": "stream",
     "text": [
      "2025, is a leap not year\n"
     ]
    }
   ],
   "source": [
    "year = int(input('Enter the Year :'))\n",
    "\n",
    "if (year % 4 == 0 and year % 100 != 0) or (year % 4 == 0):\n",
    "    print(f\"{year}, is a leap year\")\n",
    "else:\n",
    "     print(f\"{year}, is a leap not year\")\n"
   ]
  },
  {
   "cell_type": "markdown",
   "id": "d5460f0e-e865-48f4-a08a-da6caff6cab2",
   "metadata": {},
   "source": [
    "# 7 Write a Python program to generate the Fibonacci sequence up to n terms."
   ]
  },
  {
   "cell_type": "code",
   "execution_count": 75,
   "id": "0713e841-25dc-4eee-bb87-1f8484cc3a99",
   "metadata": {},
   "outputs": [
    {
     "name": "stdin",
     "output_type": "stream",
     "text": [
      "Enter the number : 100\n"
     ]
    },
    {
     "name": "stdout",
     "output_type": "stream",
     "text": [
      "Fibonacci sequence =\n",
      "0 1 1 2 3 5 8 13 21 34 55 89 144 233 377 610 987 1597 2584 4181 6765 10946 17711 28657 46368 75025 121393 196418 317811 514229 832040 1346269 2178309 3524578 5702887 9227465 14930352 24157817 39088169 63245986 102334155 165580141 267914296 433494437 701408733 1134903170 1836311903 2971215073 4807526976 7778742049 12586269025 20365011074 32951280099 53316291173 86267571272 139583862445 225851433717 365435296162 591286729879 956722026041 1548008755920 2504730781961 4052739537881 6557470319842 10610209857723 17167680177565 27777890035288 44945570212853 72723460248141 117669030460994 190392490709135 308061521170129 498454011879264 806515533049393 1304969544928657 2111485077978050 3416454622906707 5527939700884757 8944394323791464 14472334024676221 23416728348467685 37889062373143906 61305790721611591 99194853094755497 160500643816367088 259695496911122585 420196140727489673 679891637638612258 1100087778366101931 1779979416004714189 2880067194370816120 4660046610375530309 7540113804746346429 12200160415121876738 19740274219868223167 31940434634990099905 51680708854858323072 83621143489848422977 135301852344706746049 218922995834555169026 "
     ]
    }
   ],
   "source": [
    "n= int(input('Enter the number :'))\n",
    "\n",
    "a,b = 0,1\n",
    "print(\"Fibonacci sequence =\")\n",
    "for _ in range(n):\n",
    "    print(a, end=\" \")\n",
    "    a, b = b,a+b\n",
    "    "
   ]
  },
  {
   "cell_type": "markdown",
   "id": "369ac6dc-bde2-4bcf-8609-595f24071da7",
   "metadata": {},
   "source": [
    "# 8. Write a Python program to count the number of vowels in a string.\n"
   ]
  },
  {
   "cell_type": "code",
   "execution_count": 98,
   "id": "0f2a4733-e360-4d4e-85f2-c87b5438d69b",
   "metadata": {},
   "outputs": [
    {
     "name": "stdin",
     "output_type": "stream",
     "text": [
      "Enter The String here : trewq\n"
     ]
    },
    {
     "name": "stdout",
     "output_type": "stream",
     "text": [
      "1\n"
     ]
    }
   ],
   "source": [
    "string = input(\"Enter The String here :\").lower()\n",
    "vowel = 'aeiou'\n",
    "count = sum(1 for char in string if char in vowel)\n",
    "print(count)"
   ]
  },
  {
   "cell_type": "markdown",
   "id": "d033c146-23f5-4ded-a5c8-f5d39d38b847",
   "metadata": {},
   "source": [
    "# 9. Write a Python program to check if a number is a prime number."
   ]
  },
  {
   "cell_type": "code",
   "execution_count": 111,
   "id": "bc51ec48-ece0-4294-a248-6f06efbdff10",
   "metadata": {},
   "outputs": [
    {
     "name": "stdin",
     "output_type": "stream",
     "text": [
      "Enter a number:  11\n"
     ]
    },
    {
     "name": "stdout",
     "output_type": "stream",
     "text": [
      "11 is a prime number\n"
     ]
    }
   ],
   "source": [
    "# Solution\n",
    "num = int(input(\"Enter a number: \"))\n",
    "if num > 1:\n",
    "    for i in range(2, int(num**0.5) + 1):\n",
    "        if num % i == 0:\n",
    "            print(f\"{num} is not a prime number\")\n",
    "            break\n",
    "    else:\n",
    "        print(f\"{num} is a prime number\")\n",
    "else:\n",
    "    print(f\"{num} is not a prime number\")\n"
   ]
  },
  {
   "cell_type": "code",
   "execution_count": 121,
   "id": "7bbf5aa1-c7ff-4c58-8fc0-c188cb54b2f7",
   "metadata": {},
   "outputs": [
    {
     "name": "stdin",
     "output_type": "stream",
     "text": [
      "enter the number : 11\n"
     ]
    },
    {
     "name": "stdout",
     "output_type": "stream",
     "text": [
      "this is prime number\n"
     ]
    }
   ],
   "source": [
    "num = int(input(\"enter the number :\"))\n",
    "if num > 1:\n",
    "    for i in range(2, int(num**0.5) + 1):\n",
    "        if num % i ==0:\n",
    "            print('this is not prime number')\n",
    "            break\n",
    "    else:\n",
    "            print('this is prime number')\n",
    "else:\n",
    "    ptint('this is not prime number')"
   ]
  },
  {
   "cell_type": "markdown",
   "id": "d61b68ba-1398-4a55-ab75-1cbca8798776",
   "metadata": {},
   "source": [
    "# 10. Write a Python program to find the sum of digits of a number."
   ]
  },
  {
   "cell_type": "code",
   "execution_count": 10,
   "id": "21e20222-49ae-4eb6-8a11-e2db46cf1b5e",
   "metadata": {},
   "outputs": [
    {
     "name": "stdin",
     "output_type": "stream",
     "text": [
      "Enter a number:  10\n"
     ]
    },
    {
     "name": "stdout",
     "output_type": "stream",
     "text": [
      "Sum of digits: 1\n"
     ]
    }
   ],
   "source": [
    "# Solution\n",
    "num = int(input(\"Enter a number: \"))\n",
    "sum_of_digits = sum(int(digit) for digit in str(num))\n",
    "print(f\"Sum of digits: {sum_of_digits}\")\n"
   ]
  },
  {
   "cell_type": "markdown",
   "id": "5e8afbc9-308c-427c-b71f-b123595b92e7",
   "metadata": {},
   "source": [
    "# 11.  Write a Python program to swap two variables without using a third variable."
   ]
  },
  {
   "cell_type": "code",
   "execution_count": 17,
   "id": "58e83462-44c7-41eb-968d-5eb8a7ffbac0",
   "metadata": {},
   "outputs": [
    {
     "name": "stdin",
     "output_type": "stream",
     "text": [
      "Enter The first Text : apple\n",
      "Enter The Second Text : mango\n"
     ]
    },
    {
     "name": "stdout",
     "output_type": "stream",
     "text": [
      "After swapping: a = apple, b = mango\n"
     ]
    }
   ],
   "source": [
    "def swap():\n",
    "    a =input('Enter The first Text :')\n",
    "    b =input('Enter The Second Text :')\n",
    "    a , b = a, b\n",
    "    print(f\"After swapping: a = {a}, b = {b}\")\n",
    "\n",
    "swap()\n"
   ]
  },
  {
   "cell_type": "markdown",
   "id": "bf831408-21c7-44ce-9c05-d5633e5ac173",
   "metadata": {},
   "source": [
    "# 12. Write a Python program to check if a number is an Armstrong number.\n",
    "   - An Armstrong number is a number that is equal to the sum of its own digits each raised to the power of the number of digits.\n",
    "\n"
   ]
  },
  {
   "cell_type": "code",
   "execution_count": 7,
   "id": "1b149d80-989c-46a2-888a-fb3495dd3164",
   "metadata": {},
   "outputs": [
    {
     "name": "stdin",
     "output_type": "stream",
     "text": [
      "Enter The Number 153\n"
     ]
    },
    {
     "name": "stdout",
     "output_type": "stream",
     "text": [
      "This is armstrong number\n"
     ]
    }
   ],
   "source": [
    "def armstrong():\n",
    "    num = int(input(\"Enter The Number\"))\n",
    "    order = len(str(num))\n",
    "    sum_of_digits = sum(int(digit)**order for digit in str(num))\n",
    "    \n",
    "    if sum_of_digits == num:\n",
    "        print(\"This is armstrong number\")\n",
    "    else:\n",
    "        print(\"This is armstrong not number\")\n",
    "\n",
    "armstrong()\n",
    "    "
   ]
  },
  {
   "cell_type": "markdown",
   "id": "7224d2dd-d5cf-48cf-95b9-b27ab618985c",
   "metadata": {},
   "source": [
    "# 13. Write a Python program to calculate the GCD (Greatest Common Divisor) of two numbers."
   ]
  },
  {
   "cell_type": "code",
   "execution_count": 44,
   "id": "7a165823-e6b6-43e0-99b6-a161ee8b10ec",
   "metadata": {},
   "outputs": [
    {
     "name": "stdin",
     "output_type": "stream",
     "text": [
      "Enter The 1st Number =  22\n",
      "Enter The 2nd Number =  88\n"
     ]
    },
    {
     "name": "stdout",
     "output_type": "stream",
     "text": [
      "22\n",
      "None\n"
     ]
    }
   ],
   "source": [
    "import math\n",
    "\n",
    "def gcd():\n",
    "    num1=int(input('Enter The 1st Number = '))\n",
    "    num2=int(input('Enter The 2nd Number = '))\n",
    "    gcd=math.gcd(num1, num2)\n",
    "    print(gcd)\n",
    "    \n",
    "print(gcd())\n",
    "\n"
   ]
  },
  {
   "cell_type": "code",
   "execution_count": 48,
   "id": "56e670d2-88b3-4607-8351-cc5bc01c6e6c",
   "metadata": {},
   "outputs": [
    {
     "name": "stdin",
     "output_type": "stream",
     "text": [
      "Enter The 1st Number =  22\n",
      "Enter The 2nd Number =  88\n"
     ]
    },
    {
     "name": "stdout",
     "output_type": "stream",
     "text": [
      "The GCD of 22 and 88 is 22.\n"
     ]
    }
   ],
   "source": [
    "def gcd(a, b):\n",
    "    while b:\n",
    "        a, b = b, a % b\n",
    "    return a\n",
    "\n",
    "# Example: GCD of 60 and 48\n",
    "num1 = int(input('Enter The 1st Number = '))\n",
    "num2 = int(input('Enter The 2nd Number = '))\n",
    "\n",
    "result = gcd(num1, num2)\n",
    "print(f\"The GCD of {num1} and {num2} is {result}.\")\n"
   ]
  },
  {
   "cell_type": "markdown",
   "id": "7b162a5e-6027-4dc3-8f9a-a99f5d7ae8ff",
   "metadata": {},
   "source": [
    "# 14. Write a Python program to find the second largest element in a list."
   ]
  },
  {
   "cell_type": "code",
   "execution_count": 9,
   "id": "88c57c9b-feef-4d93-9cbb-9f79348033c6",
   "metadata": {},
   "outputs": [
    {
     "name": "stdin",
     "output_type": "stream",
     "text": [
      "Enter The Number With Coma Separated 1,2,3,4\n"
     ]
    },
    {
     "name": "stdout",
     "output_type": "stream",
     "text": [
      "This is second largest number 3\n"
     ]
    }
   ],
   "source": [
    "def second_number():\n",
    "    num = list(input(\"Enter The Number With Coma Separated\"))\n",
    "    num1 = list(set(num))\n",
    "    num1.sort(reverse = True)\n",
    "    if len(num1) < 2:\n",
    "        print('This Is not second largest Number')\n",
    "    else:\n",
    "        print(f\"This is second largest number {num1[1]}\")\n",
    "second_number()"
   ]
  },
  {
   "cell_type": "markdown",
   "id": "1dcc1008-3873-4d71-8f5a-4f366089967f",
   "metadata": {},
   "source": [
    "# 15. Interview Question : Find Substring of String | Python Code"
   ]
  },
  {
   "cell_type": "code",
   "execution_count": 50,
   "id": "44bd7873-640a-4482-a8c3-ef2edc8c69b4",
   "metadata": {},
   "outputs": [
    {
     "name": "stdin",
     "output_type": "stream",
     "text": [
      "Enter The String Here : 1234\n"
     ]
    },
    {
     "name": "stdout",
     "output_type": "stream",
     "text": [
      "1\n",
      "12\n",
      "123\n",
      "1234\n",
      "2\n",
      "23\n",
      "234\n",
      "3\n",
      "34\n",
      "4\n"
     ]
    }
   ],
   "source": [
    "def sub_string():\n",
    "    str1 = str(input('Enter The String Here :'))\n",
    "    l = len(str1)\n",
    "    for i in range(l):\n",
    "        for j in range(i+1, l+1):\n",
    "            print(str1[i:j])\n",
    "\n",
    "sub_string()"
   ]
  },
  {
   "cell_type": "markdown",
   "id": "9c9a33f2-fb3b-48ed-b1eb-587b43a48f38",
   "metadata": {},
   "source": [
    "# 16. Convert String in upper Case"
   ]
  },
  {
   "cell_type": "code",
   "execution_count": 54,
   "id": "789a8c39-180a-4050-ad37-262e038b066a",
   "metadata": {},
   "outputs": [
    {
     "name": "stdin",
     "output_type": "stream",
     "text": [
      "Enter The Lower case String Here : abcdef\n"
     ]
    },
    {
     "name": "stdout",
     "output_type": "stream",
     "text": [
      "Upper case converted string Is : ABCDEF\n"
     ]
    }
   ],
   "source": [
    "def upper_case():\n",
    "    val = str(input(\"Enter The Lower case String Here :\"))\n",
    "    val2=val.upper()\n",
    "    print(f'Upper case converted string Is : {(val2)}')\n",
    "upper_case()"
   ]
  },
  {
   "cell_type": "markdown",
   "id": "bbee35be-2e7c-422d-bd73-5787bf9d9ffd",
   "metadata": {},
   "source": [
    "# 17. Fine The Perfect Number "
   ]
  },
  {
   "cell_type": "code",
   "execution_count": 7,
   "id": "9fcb1596-7b62-4eb3-bc60-7b5c20ec127a",
   "metadata": {},
   "outputs": [
    {
     "name": "stdin",
     "output_type": "stream",
     "text": [
      "Enter The Number : 6\n"
     ]
    },
    {
     "name": "stdout",
     "output_type": "stream",
     "text": [
      "This Is Perfect Number\n"
     ]
    }
   ],
   "source": [
    "def perfect_number():\n",
    "    number = int(input('Enter The Number :'))\n",
    "    sum=0\n",
    "    for i in range(1,number):\n",
    "        if number % i ==0:\n",
    "            sum+=i\n",
    "    if number == sum:\n",
    "        print('This Is Perfect Number')\n",
    "    else:\n",
    "        print('This is not perfect Number')\n",
    "        \n",
    "perfect_number()"
   ]
  },
  {
   "cell_type": "markdown",
   "id": "6e394dee-d2d3-440a-b4b4-cd1a8c02a2db",
   "metadata": {},
   "source": [
    "# 18. Find the ASCII value of Character "
   ]
  },
  {
   "cell_type": "code",
   "execution_count": 4,
   "id": "e0b6d37d-cd92-420f-9799-6be90832e6a8",
   "metadata": {},
   "outputs": [
    {
     "name": "stdin",
     "output_type": "stream",
     "text": [
      "Enter The Charecter : a\n"
     ]
    },
    {
     "name": "stdout",
     "output_type": "stream",
     "text": [
      "97\n"
     ]
    }
   ],
   "source": [
    "character = str(input('Enter The Charecter :'))\n",
    "ascii = ord(character)\n",
    "print(ascii)\n",
    "                \n",
    "                "
   ]
  },
  {
   "cell_type": "code",
   "execution_count": 8,
   "id": "1b995403-1d0e-40aa-9ff3-3842851c483f",
   "metadata": {},
   "outputs": [
    {
     "name": "stdin",
     "output_type": "stream",
     "text": [
      "Enter The Number : 55\n"
     ]
    },
    {
     "name": "stdout",
     "output_type": "stream",
     "text": [
      "7\n"
     ]
    }
   ],
   "source": [
    "num = int(input('Enter The Number :'))\n",
    "ascii = chr(num)\n",
    "print(ascii)"
   ]
  },
  {
   "cell_type": "markdown",
   "id": "78dc91a2-2af2-4437-bec8-40f161939cbd",
   "metadata": {},
   "source": [
    "# 19. Build A Calculator "
   ]
  },
  {
   "cell_type": "code",
   "execution_count": 19,
   "id": "9df1c521-7a87-41a2-bd20-6beb9823c5b4",
   "metadata": {},
   "outputs": [
    {
     "name": "stdin",
     "output_type": "stream",
     "text": [
      "Enter the Fist Number 44\n",
      "Enter the Second Number 55\n",
      "Enter The Operater (+  - * / %) : /\n"
     ]
    },
    {
     "name": "stdout",
     "output_type": "stream",
     "text": [
      "0\n"
     ]
    }
   ],
   "source": [
    "num1= int(input('Enter the Fist Number'))\n",
    "num2= int(input('Enter the Second Number'))\n",
    "opr = input('Enter The Operater (+  - * / %) :')\n",
    "\n",
    "if opr == '+':\n",
    "    print(num1+num2)\n",
    "elif opr == '-':\n",
    "    print(num1-num2)\n",
    "elif opr == '*':\n",
    "    print(num1*num2)\n",
    "elif opr == '/':\n",
    "    print(num1//num2)\n",
    "else:\n",
    "    print(\"Your Input Is wrong\")"
   ]
  },
  {
   "cell_type": "markdown",
   "id": "608632ac-2b93-47c9-b6b5-63c050cf496b",
   "metadata": {},
   "source": [
    "# 20. String Count"
   ]
  },
  {
   "cell_type": "code",
   "execution_count": 34,
   "id": "fa7c6c7a-bf30-462e-918d-d0520834e789",
   "metadata": {},
   "outputs": [
    {
     "name": "stdin",
     "output_type": "stream",
     "text": [
      "Enter The Charecter Here : wdxs\n"
     ]
    },
    {
     "name": "stdout",
     "output_type": "stream",
     "text": [
      "4\n"
     ]
    }
   ],
   "source": [
    "user = str(input(\"Enter The Charecter Here :\"))\n",
    "count = 0\n",
    "for i in user:\n",
    "    count=count+1\n",
    "print(count)"
   ]
  },
  {
   "cell_type": "markdown",
   "id": "3617b663-48ec-4733-a7cd-aed33f580054",
   "metadata": {},
   "source": [
    "# 21. find The Prime Number And Composit Number"
   ]
  },
  {
   "cell_type": "code",
   "execution_count": 43,
   "id": "d1ac9a62-09fe-42f7-b0ce-40d57f155430",
   "metadata": {},
   "outputs": [
    {
     "name": "stdin",
     "output_type": "stream",
     "text": [
      "Enter The Number Here  : 895612\n"
     ]
    },
    {
     "name": "stdout",
     "output_type": "stream",
     "text": [
      "This Is composit Number\n"
     ]
    }
   ],
   "source": [
    "num = int(input('Enter The Number Here  :'))\n",
    "count = 0\n",
    "i=1\n",
    "while i<=num:\n",
    "    if num%i==0:\n",
    "        count=count+1\n",
    "    i=i+1\n",
    "if count==2:\n",
    "    print('This Is A Prime Number')\n",
    "elif count>2:\n",
    "    print(\"This Is composit Number\")\n",
    "else:\n",
    "    print('Statement is wronh')\n",
    "        "
   ]
  },
  {
   "cell_type": "markdown",
   "id": "a575c78b-3c64-4d90-9600-5092e1b030fd",
   "metadata": {},
   "source": [
    "# 22.  Problem: Given a list of integers and a target sum, find all pairs of numbers that add up to the target\n",
    "     Input: [2, 7, 4, 5, 3, 8], target = 10\n",
    "     Output: [(2,8), (7,3), (5,5)]"
   ]
  },
  {
   "cell_type": "code",
   "execution_count": 15,
   "id": "4a8d8df1-66b4-48d0-b266-9ddaaaeffbcf",
   "metadata": {},
   "outputs": [],
   "source": [
    "def find_pairs(number, target):\n",
    "    pairs=[]\n",
    "    for i in range(len(num)):\n",
    "        for j in range(i+1, len(num)):\n",
    "            if num[i]+num[j]==target:\n",
    "                pairs.append((num[i], num[j]))\n",
    "    return pairs\n",
    "\n",
    "num = [2, 7, 4, 5, 3, 8]\n",
    "target = 10"
   ]
  },
  {
   "cell_type": "code",
   "execution_count": 17,
   "id": "6da7dc49-856b-44b2-abdc-2939ceec492a",
   "metadata": {},
   "outputs": [
    {
     "name": "stdout",
     "output_type": "stream",
     "text": [
      "[(2, 8), (7, 3)]\n"
     ]
    }
   ],
   "source": [
    "print(find_pairs(num, target))"
   ]
  },
  {
   "cell_type": "markdown",
   "id": "ce9cc76c-7b01-4615-918f-6e682cb6055c",
   "metadata": {},
   "source": [
    "## Second Method "
   ]
  },
  {
   "cell_type": "code",
   "execution_count": 20,
   "id": "f32e18d7-bc75-4ddd-a1a1-b65eadfd7e6f",
   "metadata": {},
   "outputs": [
    {
     "name": "stdout",
     "output_type": "stream",
     "text": [
      "[(2, 8), (7, 3)]\n"
     ]
    }
   ],
   "source": [
    "num = [2, 7, 4, 5, 3, 8]\n",
    "target = 10\n",
    "pairs = []\n",
    "\n",
    "for i in range(len(num)):\n",
    "    for j in range(i+1, len(num)):\n",
    "        if num[i]+num[j] == target:\n",
    "            pairs.append((num[i], num[j]))\n",
    "print(pairs)"
   ]
  },
  {
   "cell_type": "markdown",
   "id": "a3b74eee-de8b-4e8d-bf68-7d6ee115f7a7",
   "metadata": {},
   "source": [
    "# Python practice programs for list comprehension"
   ]
  },
  {
   "cell_type": "code",
   "execution_count": 5,
   "id": "84ba2103-de3e-4df2-9948-d654a349ef85",
   "metadata": {},
   "outputs": [
    {
     "data": {
      "text/plain": [
       "[1, 4, 9, 16, 25, 36, 49, 64, 81, 100]"
      ]
     },
     "execution_count": 5,
     "metadata": {},
     "output_type": "execute_result"
    }
   ],
   "source": [
    "# Problem: Generate a list of squares for numbers from 1 to 10.\n",
    "\n",
    "\n",
    "num = [square**2 for square in range(1,11)]\n",
    "num"
   ]
  },
  {
   "cell_type": "code",
   "execution_count": 9,
   "id": "67d5605f-2898-430a-ad9a-7eb7e2feeecd",
   "metadata": {},
   "outputs": [
    {
     "data": {
      "text/plain": [
       "[4, 16, 36, 64, 100]"
      ]
     },
     "execution_count": 9,
     "metadata": {},
     "output_type": "execute_result"
    }
   ],
   "source": [
    "# 👉 Problem: Extract even numbers from a given list.\n",
    "nums = [1, 2, 3, 4, 5, 6, 7, 8, 9, 10]\n",
    "\n",
    "num = [even for even in num if even % 2 ==0]\n",
    "num"
   ]
  },
  {
   "cell_type": "code",
   "execution_count": 19,
   "id": "0d9c511a-1e8e-474d-a9ba-0314aa9b003f",
   "metadata": {},
   "outputs": [
    {
     "data": {
      "text/plain": [
       "[5, 6, 6]"
      ]
     },
     "execution_count": 19,
     "metadata": {},
     "output_type": "execute_result"
    }
   ],
   "source": [
    "# 👉 Problem: Find the length of each word in a list.\n",
    "\n",
    "words = [\"apple\", \"banana\", \"cherry\"]\n",
    "length = [len(word) for word in words]\n",
    "length"
   ]
  },
  {
   "cell_type": "code",
   "execution_count": 29,
   "id": "6baf19d7-9e3a-4217-9f44-4892c18e749a",
   "metadata": {},
   "outputs": [
    {
     "name": "stdout",
     "output_type": "stream",
     "text": [
      "['HELLO', 'WORLD', 'PYTHON']\n"
     ]
    }
   ],
   "source": [
    "# 👉 Problem: Convert a list of words to uppercase.\n",
    "\n",
    "words = [\"hello\", \"world\", \"python\"]\n",
    "result = [word.upper() for word in words]\n",
    "print(result)\n"
   ]
  },
  {
   "cell_type": "code",
   "execution_count": 47,
   "id": "68b09930-2aaf-4a36-a551-a18c0785cd95",
   "metadata": {},
   "outputs": [
    {
     "data": {
      "text/plain": [
       "[]"
      ]
     },
     "execution_count": 47,
     "metadata": {},
     "output_type": "execute_result"
    }
   ],
   "source": [
    "# 👉 Problem: Get names containing the letter 'a'.\n",
    "\n",
    "names = [\"Alice\", \"Bob\", \"Charlie\", \"David\"]\n",
    "result =[name for name in names if 'a' in names]\n",
    "result \n"
   ]
  },
  {
   "cell_type": "markdown",
   "id": "52900e5e-af96-4c0b-8089-b6f6a54638fc",
   "metadata": {},
   "source": [
    "# 23. Implement a function to check if a string is an anagram of another string."
   ]
  },
  {
   "cell_type": "code",
   "execution_count": 27,
   "id": "df401eff-85a6-4be9-8329-a74dd3889ec5",
   "metadata": {},
   "outputs": [
    {
     "name": "stdin",
     "output_type": "stream",
     "text": [
      "Enter the First Word Listen\n",
      "Second the First Word Silent\n"
     ]
    },
    {
     "name": "stdout",
     "output_type": "stream",
     "text": [
      "This Is Anagram\n"
     ]
    }
   ],
   "source": [
    "def is_anagram(str1, str2):\n",
    "    return sorted(str1.lower()) == sorted(str2.lower())\n",
    "\n",
    "word1 = input('Enter the First Word')\n",
    "word2 = input('Second the First Word')\n",
    "\n",
    "if is_anagram(word1, word2):\n",
    "    print('This Is Anagram')\n",
    "else:\n",
    "    print('This Is Not Anagram')"
   ]
  },
  {
   "cell_type": "markdown",
   "id": "457fe845-aeba-4d53-9935-7a7b3bebc6d6",
   "metadata": {},
   "source": [
    "# 24. Write a Python program to remove duplicates from a list."
   ]
  },
  {
   "cell_type": "code",
   "execution_count": 30,
   "id": "b1796729-55f0-465a-bbc6-a7c75d13b0ab",
   "metadata": {},
   "outputs": [
    {
     "name": "stdin",
     "output_type": "stream",
     "text": [
      "Enter The List = 1,2,3,4,5,5,6,7,3,52,8,3\n"
     ]
    },
    {
     "name": "stdout",
     "output_type": "stream",
     "text": [
      "['8', '7', '6', '4', '1', '5', ',', '3', '2']\n"
     ]
    }
   ],
   "source": [
    "def remove_duplicated(lst):\n",
    "    return list(set(lst))\n",
    "\n",
    "num = list(input(\"Enter The List =\"))\n",
    "print(remove_duplicated(num))"
   ]
  },
  {
   "cell_type": "markdown",
   "id": "8273f23e-ba0b-4359-8931-5b8b207a6dd6",
   "metadata": {},
   "source": [
    "# 25. Write a program to find the sum of digits of a number."
   ]
  },
  {
   "cell_type": "code",
   "execution_count": 1,
   "id": "c758ce27-50d4-4518-91a3-b9c282d7795e",
   "metadata": {},
   "outputs": [
    {
     "name": "stdin",
     "output_type": "stream",
     "text": [
      "Enter the Number = 12\n"
     ]
    },
    {
     "data": {
      "text/plain": [
       "3"
      ]
     },
     "execution_count": 1,
     "metadata": {},
     "output_type": "execute_result"
    }
   ],
   "source": [
    "num = input('Enter the Number =')\n",
    "sum = sum(map(int, num))\n",
    "sum"
   ]
  },
  {
   "cell_type": "markdown",
   "id": "f2f0b987-d8f3-4ff7-8582-60431fe8635c",
   "metadata": {},
   "source": []
  }
 ],
 "metadata": {
  "kernelspec": {
   "display_name": "Python 3 (ipykernel)",
   "language": "python",
   "name": "python3"
  },
  "language_info": {
   "codemirror_mode": {
    "name": "ipython",
    "version": 3
   },
   "file_extension": ".py",
   "mimetype": "text/x-python",
   "name": "python",
   "nbconvert_exporter": "python",
   "pygments_lexer": "ipython3",
   "version": "3.12.4"
  }
 },
 "nbformat": 4,
 "nbformat_minor": 5
}
